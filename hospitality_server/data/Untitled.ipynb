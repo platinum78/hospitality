{
 "cells": [
  {
   "cell_type": "markdown",
   "metadata": {},
   "source": [
    "http://www.koicd.kr/ 에서 질병 코드 Parsing"
   ]
  },
  {
   "cell_type": "code",
   "execution_count": 1,
   "metadata": {},
   "outputs": [],
   "source": [
    "import requests, json, sqlite3"
   ]
  },
  {
   "cell_type": "code",
   "execution_count": 2,
   "metadata": {},
   "outputs": [],
   "source": [
    "session = requests.Session()"
   ]
  },
  {
   "cell_type": "code",
   "execution_count": null,
   "metadata": {},
   "outputs": [],
   "source": []
  },
  {
   "cell_type": "code",
   "execution_count": 3,
   "metadata": {},
   "outputs": [],
   "source": [
    "data = {\n",
    "    \"gubun\": \"E\",\n",
    "    \"link_idx\": \"B\",\n",
    "    \"link_idx2\": \"\",\n",
    "    \"page\": 1\n",
    "}\n",
    "\n",
    "response = session.post(\"http://www.koicd.kr/2016/easyFind/v7.json\", data)"
   ]
  },
  {
   "cell_type": "code",
   "execution_count": 10,
   "metadata": {},
   "outputs": [],
   "source": [
    "response_data = json.loads(response.text)"
   ]
  },
  {
   "cell_type": "code",
   "execution_count": 16,
   "metadata": {},
   "outputs": [
    {
     "data": {
      "text/plain": [
       "{'addSearchCnd1': '',\n",
       " 'addSearchCnd2': '',\n",
       " 'addSearchWrd1': '',\n",
       " 'addSearchWrd2': '',\n",
       " 'andSearchWrd': '',\n",
       " 'andSearchWrd1': '',\n",
       " 'andSearchWrd2': '',\n",
       " 'andSearchWrd3': '',\n",
       " 'code_range': '',\n",
       " 'code_title': 'B00.1',\n",
       " 'code_title_list': [],\n",
       " 'code_titles': '',\n",
       " 'diss_nm': '',\n",
       " 'eng_text': 'Herpesviral vesicular dermatitis',\n",
       " 'firstIndex': 1,\n",
       " 'goto_level': '',\n",
       " 'gubun_code': '',\n",
       " 'id': '',\n",
       " 'image_link': '',\n",
       " 'kor_text': '헤르페스바이러스 소수포피부염',\n",
       " 'lastIndex': 1,\n",
       " 'last_node_at': '',\n",
       " 'level_code': '',\n",
       " 'level_no': '',\n",
       " 'level_no2': 0,\n",
       " 'level_title': '1.11.1.2',\n",
       " 'level_title2': '',\n",
       " 'orSearchWrd': '',\n",
       " 'orSearchWrd1': '',\n",
       " 'orSearchWrd2': '',\n",
       " 'orSearchWrd3': '',\n",
       " 'order_idx': '',\n",
       " 'p_level_code': '',\n",
       " 'p_level_no': 0,\n",
       " 'p_level_no2': 0,\n",
       " 'p_level_title': '',\n",
       " 'p_level_title1': '',\n",
       " 'p_level_title2': '',\n",
       " 'p_level_title3': '',\n",
       " 'p_level_title4': '',\n",
       " 'p_ny': 'N',\n",
       " 'p_search_code': '',\n",
       " 'page': 1,\n",
       " 'pageIndex': 1,\n",
       " 'pageSize': 10,\n",
       " 'pageUnit': 10,\n",
       " 'parent': '',\n",
       " 'parent_level_no': 0,\n",
       " 'posId': '',\n",
       " 'recordCountPerPage': 10,\n",
       " 'rowNo': 0,\n",
       " 'searchCnd': '',\n",
       " 'searchWrd': '',\n",
       " 'search_code': '',\n",
       " 'seq_no': 0,\n",
       " 'sortOrdr': '',\n",
       " 'text': '',\n",
       " 'totalCnt': 0,\n",
       " 'use_taeguek': 0,\n",
       " 'user_id': '',\n",
       " 'ver': '',\n",
       " 'vol2_cnt': 0,\n",
       " 'wiki_text': ''}"
      ]
     },
     "execution_count": 16,
     "metadata": {},
     "output_type": "execute_result"
    }
   ],
   "source": [
    "response_data[\"list\"][3]"
   ]
  }
 ],
 "metadata": {
  "kernelspec": {
   "display_name": "Python 3",
   "language": "python",
   "name": "python3"
  },
  "language_info": {
   "codemirror_mode": {
    "name": "ipython",
    "version": 3
   },
   "file_extension": ".py",
   "mimetype": "text/x-python",
   "name": "python",
   "nbconvert_exporter": "python",
   "pygments_lexer": "ipython3",
   "version": "3.5.2"
  }
 },
 "nbformat": 4,
 "nbformat_minor": 2
}
