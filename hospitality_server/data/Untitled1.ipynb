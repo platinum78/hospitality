{
 "cells": [
  {
   "cell_type": "markdown",
   "metadata": {},
   "source": [
    "width: 211.02\n",
    "height: 139.28"
   ]
  },
  {
   "cell_type": "code",
   "execution_count": 1,
   "metadata": {},
   "outputs": [],
   "source": [
    "import sys\n",
    "for x in reversed(range(len(sys.path))):\n",
    "    if \"ros\" in sys.path[x]:\n",
    "        sys.path.pop(x)\n",
    "\n",
    "import cv2\n",
    "from matplotlib import pyplot as plt\n",
    "import numpy as np"
   ]
  },
  {
   "cell_type": "code",
   "execution_count": 12,
   "metadata": {},
   "outputs": [],
   "source": [
    "image = cv2.imread(\"./hospital_map.png\")\n",
    "image = cv2.cvtColor(image, cv2.COLOR_BGR2GRAY)\n",
    "image[image>250] = 255\n",
    "image[image<250] = 0"
   ]
  },
  {
   "cell_type": "code",
   "execution_count": 13,
   "metadata": {},
   "outputs": [],
   "source": [
    "avg_hori = np.average(image, axis=1)\n",
    "avg_vert = np.average(image, axis=0)\n",
    "x_left, x_right, y_top, y_bottom = 0, 0, 0, 0\n",
    "\n",
    "for x in range(len(avg_vert)):\n",
    "    if avg_vert[x] != 255:\n",
    "        x_left = x\n",
    "        break\n",
    "for x in reversed(range(len(avg_vert))):\n",
    "    if avg_vert[x] != 255:\n",
    "        x_right = x\n",
    "        break\n",
    "for y in range(len(avg_hori)):\n",
    "    if avg_hori[y] != 255:\n",
    "        y_top = y\n",
    "        break\n",
    "for y in reversed(range(len(avg_hori))):\n",
    "    if avg_hori[y] != 255:\n",
    "        y_bottom = y\n",
    "        break"
   ]
  },
  {
   "cell_type": "code",
   "execution_count": 14,
   "metadata": {},
   "outputs": [],
   "source": [
    "image = image[y_top:y_bottom+1, x_left:x_right+1]"
   ]
  },
  {
   "cell_type": "code",
   "execution_count": 15,
   "metadata": {},
   "outputs": [
    {
     "data": {
      "text/plain": [
       "(5030, 7619)"
      ]
     },
     "execution_count": 15,
     "metadata": {},
     "output_type": "execute_result"
    }
   ],
   "source": [
    "image.shape"
   ]
  },
  {
   "cell_type": "code",
   "execution_count": 30,
   "metadata": {},
   "outputs": [
    {
     "name": "stdout",
     "output_type": "stream",
     "text": [
      "0.027693204469207852\n"
     ]
    }
   ],
   "source": [
    "rat = (211.02 / image.shape[1]) / 2 + (139.28 / image.shape[0]) / 2\n",
    "print(rat)"
   ]
  },
  {
   "cell_type": "code",
   "execution_count": 31,
   "metadata": {},
   "outputs": [],
   "source": [
    "new_height = int(image.shape[0] / 0.05 * rat)\n",
    "new_width = int(image.shape[1] / 0.05 * rat)"
   ]
  },
  {
   "cell_type": "code",
   "execution_count": 32,
   "metadata": {},
   "outputs": [],
   "source": [
    "img_resized = cv2.resize(image, (new_width, new_height), interpolation=cv2.INTER_NEAREST)"
   ]
  },
  {
   "cell_type": "code",
   "execution_count": 33,
   "metadata": {},
   "outputs": [
    {
     "data": {
      "text/plain": [
       "True"
      ]
     },
     "execution_count": 33,
     "metadata": {},
     "output_type": "execute_result"
    }
   ],
   "source": [
    "cv2.imwrite(\"hospital_map_resized.png\", img_resized)"
   ]
  },
  {
   "cell_type": "code",
   "execution_count": null,
   "metadata": {},
   "outputs": [],
   "source": []
  }
 ],
 "metadata": {
  "kernelspec": {
   "display_name": "Python 3",
   "language": "python",
   "name": "python3"
  },
  "language_info": {
   "codemirror_mode": {
    "name": "ipython",
    "version": 3
   },
   "file_extension": ".py",
   "mimetype": "text/x-python",
   "name": "python",
   "nbconvert_exporter": "python",
   "pygments_lexer": "ipython3",
   "version": "3.5.2"
  }
 },
 "nbformat": 4,
 "nbformat_minor": 2
}
